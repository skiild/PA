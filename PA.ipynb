{
 "cells": [
  {
   "cell_type": "code",
   "execution_count": 1,
   "metadata": {},
   "outputs": [],
   "source": [
    "import re\n",
    "import requests\n",
    "from bs4 import BeautifulSoup\n",
    "import networkx as nx\n",
    "import ipywidgets as widgets\n",
    "\n",
    "G = nx.Graph()"
   ]
  },
  {
   "cell_type": "code",
   "execution_count": 2,
   "metadata": {},
   "outputs": [],
   "source": [
    "#!jupyter nbextension enable --py widgetsnbextension --sys-prefix\n",
    "#!jupyter serverextension enable voila --sys-prefix"
   ]
  },
  {
   "cell_type": "code",
   "execution_count": 3,
   "metadata": {},
   "outputs": [],
   "source": [
    "page = requests.get(\"http://dtu-graph.lyxx.fr/data/class.html\")\n",
    "soup = BeautifulSoup(page.content, \"html.parser\")\n",
    "\n",
    "for i in soup.findAll(\"tr\"):\n",
    "    #fetch departements\n",
    "    if \"colspan\" in (str)(list(i.children)[1]):\n",
    "        departement = list(i.children)[1].text.strip()\n",
    "    #fetch class\n",
    "    else:\n",
    "        level = [v.strip() for v in list(i.children)[5].text.split(',')]\n",
    "        classnumber = i.text.strip().split('\\n')[0][:5]\n",
    "        classname = i.text.strip().split('\\n')[0][8:]\n",
    "        langage, ects = [s.strip() for s in i.text.strip().split('\\n')[1].split('|')[0:2]]\n",
    "        ects = (float)(ects.split(' ')[0])\n",
    "\n",
    "        #get schedule. First dimension : different option, second dimension : all the class to follow for this option\n",
    "        res = \"\"\n",
    "        for j in list(i.children)[3].findAll(\"span\")[1:]:\n",
    "            if j.text.strip() != \"\":\n",
    "                res += j.text.strip()\n",
    "        res = res.split(\"or\")\n",
    "        for j in range(len(res)):\n",
    "            group = re.findall(\"([E][1-5]) \", res[j])\n",
    "            res[j] = re.findall(\"(January|[E][1-5][AB])\", res[j])\n",
    "            for k in group:\n",
    "                res[j].append(k + 'A')\n",
    "                res[j].append(k + 'B')\n",
    "        for i in range(len(res) - 1, -1, -1):\n",
    "            if not res[i]:\n",
    "                res.pop(i)              \n",
    "        G.add_node(classnumber, name=classname, langage=langage, level=level, ects=ects, departement=departement, date=res)"
   ]
  },
  {
   "cell_type": "code",
   "execution_count": 4,
   "metadata": {},
   "outputs": [],
   "source": [
    "page = requests.get(\"http://dtu-graph.lyxx.fr/data/ranking.html\")\n",
    "soup = BeautifulSoup(page.content, \"html.parser\")\n",
    "\n",
    "#fetch class ratings\n",
    "for i in soup.findChild(\"tbody\").findAll(\"tr\"):\n",
    "    classnum = list(i.children)[0].text\n",
    "    #some class might not exist anymore\n",
    "    try:\n",
    "        G.nodes[classnum][\"avgGrade\"] = list(i.children)[2].text\n",
    "        G.nodes[classnum][\"passed\"] = list(i.children)[4].text\n",
    "        G.nodes[classnum][\"rating\"] = list(i.children)[5].text\n",
    "        G.nodes[classnum][\"workload\"] = list(i.children)[6].text\n",
    "    except:pass\n",
    "    "
   ]
  },
  {
   "cell_type": "code",
   "execution_count": 5,
   "metadata": {},
   "outputs": [],
   "source": [
    "#this sections checks if 2 class can happen at the same time\n",
    "\n",
    "def checkDate(a, b):\n",
    "    for i in a:\n",
    "        if i in b:\n",
    "            return False\n",
    "    return True\n",
    "    \n",
    "f = list(G.nodes())\n",
    "def checkVariante(i, j):\n",
    "    for iDate in G.nodes[f[i]][\"date\"]:\n",
    "        for jDate in G.nodes[f[j]][\"date\"]:\n",
    "            if checkDate(iDate, jDate):\n",
    "                return True\n",
    "    return False"
   ]
  },
  {
   "cell_type": "code",
   "execution_count": 6,
   "metadata": {},
   "outputs": [],
   "source": [
    "#add edge to class that can happen at the same time\n",
    "for i in range(len(G.nodes()) - 1):\n",
    "    for j in range(i + 1, len(G.nodes())):\n",
    "        if checkVariante(i, j):\n",
    "            G.add_edge(f[i], f[j])"
   ]
  },
  {
   "cell_type": "code",
   "execution_count": 7,
   "metadata": {},
   "outputs": [],
   "source": [
    "#Now preparing the filters for the UI.\n",
    "langages = []\n",
    "departements = []\n",
    "levels = []\n",
    "\n",
    "for i in G.nodes():\n",
    "    if not G.nodes[i][\"departement\"] in departements:\n",
    "        departements.append(G.nodes[i][\"departement\"])\n",
    "    if not G.nodes[i][\"langage\"] in langages:\n",
    "        langages.append(G.nodes[i][\"langage\"])\n",
    "    for j in G.nodes[i][\"level\"]:\n",
    "        if not j in levels:\n",
    "            levels.append(j)"
   ]
  },
  {
   "cell_type": "code",
   "execution_count": 8,
   "metadata": {},
   "outputs": [],
   "source": [
    "#this function will be called almost at every event on the UI\n",
    "def updateSelect(c):\n",
    "    select.options = showPossibleClass()\n",
    "    chosen.options = showChosen()\n",
    "    labelEcts.value = \"Total : \" + str(ectsCounter()) + \" ECTS\""
   ]
  },
  {
   "cell_type": "code",
   "execution_count": 9,
   "metadata": {},
   "outputs": [],
   "source": [
    "#langage selection\n",
    "selectLangages = widgets.SelectMultiple(\n",
    "    options=langages,\n",
    "    description='Langage',\n",
    "    layout= widgets.Layout(width='auto')\n",
    ")\n",
    "\n",
    "selectLangages.observe(updateSelect, 'value')"
   ]
  },
  {
   "cell_type": "code",
   "execution_count": 10,
   "metadata": {},
   "outputs": [],
   "source": [
    "#departement selection\n",
    "selectDepartement = widgets.SelectMultiple(\n",
    "    options=departements,\n",
    "    description='Departement',\n",
    "    layout= widgets.Layout(width='auto')\n",
    ")\n",
    "\n",
    "selectDepartement.observe(updateSelect, 'value')"
   ]
  },
  {
   "cell_type": "code",
   "execution_count": 11,
   "metadata": {},
   "outputs": [],
   "source": [
    "#level selection\n",
    "selectLevel = widgets.SelectMultiple(\n",
    "    options=levels,\n",
    "    description='Level',\n",
    "    layout= widgets.Layout(width='auto')\n",
    ")\n",
    "\n",
    "selectLevel.observe(updateSelect, 'value')"
   ]
  },
  {
   "cell_type": "code",
   "execution_count": 12,
   "metadata": {},
   "outputs": [],
   "source": [
    "#we will show the total number of ECTS in this label\n",
    "labelEcts = widgets.Label()"
   ]
  },
  {
   "cell_type": "code",
   "execution_count": 13,
   "metadata": {},
   "outputs": [],
   "source": [
    "#compute what should be displayed where\n",
    "chosenList = []\n",
    "\n",
    "#is this node compatible with the ones already chosen ?\n",
    "def canAdd(node):\n",
    "    for i in chosenList:\n",
    "        if node not in G[i]:\n",
    "            return False\n",
    "    return True\n",
    "\n",
    "#check all nodes\n",
    "def possibleClass():\n",
    "    selectable = []\n",
    "    for i in G.nodes():\n",
    "        if canAdd(i):\n",
    "            selectable.append(G.nodes[i])\n",
    "    return selectable\n",
    "\n",
    "#remove nodes that doesn't match the filters   \n",
    "def classFiltered(selectable):\n",
    "    selectableFiltered = []\n",
    "    for i in selectable:\n",
    "        if i[\"departement\"] in selectDepartement.value and i[\"langage\"] in selectLangages.value:\n",
    "            for j in i[\"level\"]:\n",
    "                if j in selectLevel.value:\n",
    "                    selectableFiltered.append(i)\n",
    "                    break\n",
    "    btnAdd.disabled = len(selectableFiltered) == 0\n",
    "    if len(selectableFiltered) == 0:\n",
    "        labelClassRanking.value = \"\"\n",
    "    return selectableFiltered\n",
    "\n",
    "#return the name of the class that can be picked\n",
    "def showPossibleClass():\n",
    "    display = []\n",
    "    for i in classFiltered(possibleClass()):\n",
    "        display.append(i[\"name\"])\n",
    "    return display\n",
    "\n",
    "#return the selected class\n",
    "def showChosen():\n",
    "    display = []\n",
    "    for i in chosenList:\n",
    "        display.append(G.nodes[i][\"name\"])\n",
    "    return display\n",
    "\n",
    "#count the total number of ects. Format if integer\n",
    "def ectsCounter():\n",
    "    res = 0\n",
    "    for i in chosenList:\n",
    "        res += G.nodes[i][\"ects\"]\n",
    "    return '%g'%(res)"
   ]
  },
  {
   "cell_type": "code",
   "execution_count": 14,
   "metadata": {},
   "outputs": [],
   "source": [
    "#here we handle the buttons behaviour\n",
    "def onAdd(c):\n",
    "    for i in G.nodes():\n",
    "        if G.nodes[i][\"name\"] == select.value:\n",
    "            chosenList.append(i)\n",
    "            break\n",
    "    btnDel.disabled = False\n",
    "    updateSelect(None)\n",
    "\n",
    "def onRemove(c):\n",
    "    for i in range(len(chosenList)):\n",
    "        if G.nodes[chosenList[i]][\"name\"] == chosen.value:\n",
    "            chosenList.pop(i)\n",
    "            break\n",
    "    if len(chosenList) == 0:\n",
    "        btnDel.disabled = True\n",
    "    updateSelect(None)\n",
    "\n",
    "btnAdd = widgets.Button(\n",
    "    description='Add',\n",
    "    button_style='success',\n",
    "    disabled=True\n",
    ")\n",
    "\n",
    "btnDel = widgets.Button(\n",
    "    description='Remove',\n",
    "    button_style='danger',\n",
    "    disabled=True\n",
    ")\n",
    "btnDel.on_click(onRemove)\n",
    "btnAdd.on_click(onAdd)\n"
   ]
  },
  {
   "cell_type": "code",
   "execution_count": 15,
   "metadata": {},
   "outputs": [],
   "source": [
    "#add reviews about the currently selected pick\n",
    "labelClassRanking = widgets.Label()\n",
    "\n",
    "#initiate the list of the chosen class, and the possible picks\n",
    "select = widgets.Select(\n",
    "    options=showPossibleClass(),\n",
    "    description='Possible picks',\n",
    "    layout= widgets.Layout(width='50%')\n",
    ")\n",
    "\n",
    "chosen = widgets.Select(\n",
    "    description='Your picks',\n",
    "    layout= widgets.Layout(width='50%')\n",
    ")\n",
    "\n",
    "#handle the classranking display\n",
    "def classRanking(c):\n",
    "    for i in G.nodes():\n",
    "        if G.nodes[i][\"name\"] == select.value:\n",
    "            try:\n",
    "                labelClassRanking.value = \"Average grade : \" + G.nodes[i][\"avgGrade\"] + \" | \" + \\\n",
    "                    \"Passed : \" + G.nodes[i][\"passed\"] + \"% | \" + \"Rating : \" + G.nodes[i][\"rating\"] + \\\n",
    "                    \" | \" + \"Workload : \" + G.nodes[i][\"workload\"] + \" | \"\n",
    "            except:\n",
    "                labelClassRanking.value = \"No reviews yet for this class. | \"\n",
    "            labelClassRanking.value = labelClassRanking.value + '%g'%(G.nodes[i][\"ects\"]) + \" ECTS\"\n",
    "            break\n",
    "select.observe(classRanking, 'value')\n"
   ]
  },
  {
   "cell_type": "code",
   "execution_count": 16,
   "metadata": {},
   "outputs": [
    {
     "data": {
      "application/vnd.jupyter.widget-view+json": {
       "model_id": "9981c12162f54b368a63a2bc6ae1e087",
       "version_major": 2,
       "version_minor": 0
      },
      "text/plain": [
       "VBox(children=(HBox(children=(Select(description='Your picks', layout=Layout(width='50%'), options=(), value=N…"
      ]
     },
     "metadata": {},
     "output_type": "display_data"
    }
   ],
   "source": [
    "#display the UI\n",
    "widgets.VBox([\n",
    "    widgets.HBox([chosen, btnDel]),\n",
    "    labelEcts,\n",
    "    widgets.Label(\"Filters\"),\n",
    "    widgets.HBox([selectDepartement, selectLangages, selectLevel]),\n",
    "    widgets.HBox([select, btnAdd]),\n",
    "    labelClassRanking   \n",
    "])\n"
   ]
  },
  {
   "cell_type": "code",
   "execution_count": 17,
   "metadata": {},
   "outputs": [
    {
     "data": {
      "text/plain": [
       "(645, 178230)"
      ]
     },
     "execution_count": 17,
     "metadata": {},
     "output_type": "execute_result"
    }
   ],
   "source": [
    "#All the following cells goal is to gather information about the graph for the website\n",
    "G.number_of_nodes(), G.number_of_edges()"
   ]
  },
  {
   "cell_type": "code",
   "execution_count": 18,
   "metadata": {},
   "outputs": [
    {
     "data": {
      "image/png": "[encoded data removed]",
      "text/plain": [
       "<Figure size 576x576 with 4 Axes>"
      ]
     },
     "metadata": {
      "needs_background": "light"
     },
     "output_type": "display_data"
    }
   ],
   "source": [
    "import networkx as nx\n",
    "import numpy as np\n",
    "import matplotlib.pyplot as plt\n",
    "\n",
    "degree_sequence = sorted([d for n, d in G.degree()], reverse=True)\n",
    "L=[]\n",
    "for i in range(len(degree_sequence)):\n",
    "    if degree_sequence[i]>450:\n",
    "        L.append(degree_sequence[i])\n",
    "dmax = max(degree_sequence)\n",
    "\n",
    "fig = plt.figure(\"Degree of a random graph\", figsize=(8, 8))\n",
    "# Create a gridspec for adding subplots of different sizes\n",
    "axgrid = fig.add_gridspec(5, 6)\n",
    "\n",
    "# Drawing the graph\n",
    "\n",
    "ax0 = fig.add_subplot(axgrid[0:3, :])\n",
    "Gcc = G.subgraph(sorted(nx.connected_components(G), key=len, reverse=True)[0])\n",
    "pos = nx.spring_layout(Gcc, seed=10396953)\n",
    "nx.draw_networkx_nodes(Gcc, pos, ax=ax0, node_size=20)\n",
    "nx.draw_networkx_edges(Gcc, pos, ax=ax0, alpha=0.4)\n",
    "ax0.set_title(\"Connected components of G\")\n",
    "ax0.set_axis_off()\n",
    "\n",
    "# Sorted degree of the nodes\n",
    "\n",
    "ax1 = fig.add_subplot(axgrid[3:, :2])\n",
    "ax1.plot(degree_sequence, \"b-\")\n",
    "ax1.set_title(\"Degree Rank Plot\")\n",
    "ax1.set_ylabel(\"Degree\")\n",
    "ax1.set_xlabel(\"Rank\")\n",
    "\n",
    "# Degree distribution\n",
    "\n",
    "ax2 = fig.add_subplot(axgrid[3:, 2:4])\n",
    "ax2.bar(*np.unique(degree_sequence, return_counts=True))\n",
    "ax2.set_title(\"Degree histogram\")\n",
    "ax2.set_xlabel(\"Degree\")\n",
    "ax2.set_ylabel(\"Nb of Nodes\")\n",
    "\n",
    "# Degree distribution (nodes which degree is more than 450)\n",
    "\n",
    "ax2 = fig.add_subplot(axgrid[3:, 4:6])\n",
    "ax2.bar(*np.unique(L, return_counts=True))\n",
    "ax2.set_title(\"Degree histogram (zoomed in)\")\n",
    "ax2.set_xlabel(\"Degree\")\n",
    "ax2.set_ylabel(\"Nb of Nodes\")\n",
    "\n",
    "fig.tight_layout()\n",
    "plt.show()"
   ]
  },
  {
   "cell_type": "code",
   "execution_count": 19,
   "metadata": {},
   "outputs": [
    {
     "data": {
      "text/plain": [
       "565"
      ]
     },
     "execution_count": 19,
     "metadata": {},
     "output_type": "execute_result"
    }
   ],
   "source": [
    "max(degree_sequence,key=degree_sequence.count)"
   ]
  }
 ],
 "metadata": {
  "interpreter": {
   "hash": "aed01aee7b1049ee99c4c4c8f2f61a52275825d2f87351fb09fa491d1e9eef79"
  },
  "kernelspec": {
   "display_name": "Python 3 (ipykernel)",
   "language": "python",
   "name": "python3"
  },
  "language_info": {
   "codemirror_mode": {
    "name": "ipython",
    "version": 3
   },
   "file_extension": ".py",
   "mimetype": "text/x-python",
   "name": "python",
   "nbconvert_exporter": "python",
   "pygments_lexer": "ipython3",
   "version": "3.8.5"
  }
 },
 "nbformat": 4,
 "nbformat_minor": 2
}
