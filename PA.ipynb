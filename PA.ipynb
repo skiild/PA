{
 "cells": [
  {
   "cell_type": "code",
   "execution_count": 1,
   "metadata": {},
   "outputs": [],
   "source": [
    "import re\n",
    "import requests\n",
    "from bs4 import BeautifulSoup\n",
    "import networkx as nx\n",
    "import ipywidgets as widgets\n",
    "\n",
    "G = nx.Graph()"
   ]
  },
  {
   "cell_type": "code",
   "execution_count": 2,
   "metadata": {},
   "outputs": [
    {
     "name": "stderr",
     "output_type": "stream",
     "text": [
      "Enabling notebook extension jupyter-js-widgets/extension...\n",
      "      - Validating: ok\n",
      "Enabling: voila\n",
      "- Writing config: C:\\Users\\Lyx\\miniconda3\\etc\\jupyter\n",
      "    - Validating...\n",
      "      voila 0.2.16 ok\n"
     ]
    }
   ],
   "source": [
    "!jupyter nbextension enable --py widgetsnbextension --sys-prefix\n",
    "!jupyter serverextension enable voila --sys-prefix"
   ]
  },
  {
   "cell_type": "code",
   "execution_count": 3,
   "metadata": {},
   "outputs": [],
   "source": [
    "page = requests.get(\"http://dtu-graph.lyxx.fr/data/class.html\")\n",
    "soup = BeautifulSoup(page.content, \"html.parser\")\n",
    "\n",
    "for i in soup.findAll(\"tr\"):\n",
    "    #fetch departements\n",
    "    if \"colspan\" in (str)(list(i.children)[1]):\n",
    "        departement = list(i.children)[1].text.strip()\n",
    "    #fetch class\n",
    "    else:\n",
    "        classnumber = i.text.strip().split('\\n')[0][:5]\n",
    "        classname = i.text.strip().split('\\n')[0][8:]\n",
    "        langage, ects = [s.strip() for s in i.text.strip().split('\\n')[1].split('|')[0:2]]\n",
    "        ects = (float)(ects.split(' ')[0])\n",
    "\n",
    "        #get schedule. First dimension : different option, second dimension : all the class to follow for this option\n",
    "        res = \"\"\n",
    "        for j in list(i.children)[3].findAll(\"span\")[1:]:\n",
    "            if j.text.strip() != \"\":\n",
    "                res += j.text.strip()\n",
    "        res = res.split(\"or\")\n",
    "        for j in range(len(res)):\n",
    "            group = re.findall(\"([EF][1-5]) \", res[j])\n",
    "            res[j] = re.findall(\"(January|June|July|August|Spring|[EF][1-5][AB])\", res[j])\n",
    "            for k in group:\n",
    "                res[j].append(k + 'A')\n",
    "                res[j].append(k + 'B')              \n",
    "        G.add_node(classnumber, name=classname, langage=langage, ects=ects, departement=departement, date=res)"
   ]
  },
  {
   "cell_type": "code",
   "execution_count": 4,
   "metadata": {},
   "outputs": [],
   "source": [
    "page = requests.get(\"http://dtu-graph.lyxx.fr/data/ranking.html\")\n",
    "soup = BeautifulSoup(page.content, \"html.parser\")\n",
    "\n",
    "#fetch class ratings\n",
    "for i in soup.findChild(\"tbody\").findAll(\"tr\"):\n",
    "    classnum = list(i.children)[0].text\n",
    "    #some class might not exist anymore\n",
    "    try:\n",
    "        G.nodes[classnum][\"avgGrade\"] = list(i.children)[2].text\n",
    "        G.nodes[classnum][\"passed\"] = list(i.children)[4].text\n",
    "        G.nodes[classnum][\"rating\"] = list(i.children)[5].text\n",
    "        G.nodes[classnum][\"workload\"] = list(i.children)[6].text\n",
    "    except:pass\n",
    "    "
   ]
  },
  {
   "cell_type": "code",
   "execution_count": 5,
   "metadata": {},
   "outputs": [],
   "source": [
    "#this sections checks if 2 class can happen at the same time\n",
    "f = list(G.nodes())\n",
    "def checkVariante(i, j):\n",
    "    for iDate in G.nodes[f[i]][\"date\"]:\n",
    "        for jDate in G.nodes[f[j]][\"date\"]:\n",
    "            if not any(item in iDate for item in jDate):\n",
    "                return True\n",
    "    return False"
   ]
  },
  {
   "cell_type": "code",
   "execution_count": 6,
   "metadata": {},
   "outputs": [],
   "source": [
    "#add edge to class that can happen at the same time\n",
    "for i in range(len(G.nodes()) - 1):\n",
    "    for j in range(i + 1, len(G.nodes())):\n",
    "        if checkVariante(i, j):\n",
    "            G.add_edge(f[i], f[j])"
   ]
  },
  {
   "cell_type": "code",
   "execution_count": 7,
   "metadata": {},
   "outputs": [],
   "source": [
    "#Now preparing the filters for the UI.\n",
    "langages = []\n",
    "departements = []\n",
    "\n",
    "for i in G.nodes():\n",
    "    if not G.nodes[i][\"departement\"] in departements:\n",
    "        departements.append(G.nodes[i][\"departement\"])\n",
    "    if not G.nodes[i][\"langage\"] in langages:\n",
    "        langages.append(G.nodes[i][\"langage\"])"
   ]
  },
  {
   "cell_type": "code",
   "execution_count": 8,
   "metadata": {},
   "outputs": [],
   "source": [
    "#this function will be called almost at every event on the UI\n",
    "def updateSelect(c):\n",
    "    select.options = showPossibleClass()\n",
    "    chosen.options = showChosen()\n",
    "    labelEcts.value = \"Total : \" + str(ectsCounter()) + \" ECTS\""
   ]
  },
  {
   "cell_type": "code",
   "execution_count": 9,
   "metadata": {},
   "outputs": [],
   "source": [
    "#langage selection\n",
    "selectLangages = widgets.SelectMultiple(\n",
    "    options=langages,\n",
    "    description='Langage',\n",
    "    layout= widgets.Layout(width='auto')\n",
    ")\n",
    "\n",
    "selectLangages.observe(updateSelect, 'value')"
   ]
  },
  {
   "cell_type": "code",
   "execution_count": 10,
   "metadata": {},
   "outputs": [],
   "source": [
    "#departement selection\n",
    "selectDepartement = widgets.SelectMultiple(\n",
    "    options=departements,\n",
    "    description='Departement',\n",
    "    layout= widgets.Layout(width='auto')\n",
    ")\n",
    "\n",
    "selectDepartement.observe(updateSelect, 'value')"
   ]
  },
  {
   "cell_type": "code",
   "execution_count": 11,
   "metadata": {},
   "outputs": [],
   "source": [
    "labelEcts = widgets.Label()"
   ]
  },
  {
   "cell_type": "code",
   "execution_count": 12,
   "metadata": {},
   "outputs": [],
   "source": [
    "#compute what should be displayed where\n",
    "chosenList = []\n",
    "\n",
    "def canAdd(node, takenSlot):\n",
    "    for j in node:\n",
    "        isPossible = True\n",
    "        for k in j:\n",
    "            if k in takenSlot:\n",
    "                isPossible = False\n",
    "        if isPossible:\n",
    "            return True\n",
    "    return False\n",
    "\n",
    "def possibleClass():\n",
    "    takenSlot, selectable = [], []\n",
    "    for i in chosenList:\n",
    "        for j in i[\"date\"]:#TODO handle \"or\"\n",
    "            for k in j:\n",
    "                takenSlot.append(k)\n",
    "\n",
    "    for i in G.nodes():\n",
    "        if canAdd(G.nodes[i][\"date\"], takenSlot):\n",
    "            selectable.append(G.nodes[i])\n",
    "    return selectable\n",
    "      \n",
    "def classFiltered(selectable):\n",
    "    selectableFiltered = []\n",
    "    for i in selectable:\n",
    "        if i[\"departement\"] in selectDepartement.value and i[\"langage\"] in selectLangages.value:\n",
    "            selectableFiltered.append(i)\n",
    "    return selectableFiltered\n",
    "\n",
    "def showPossibleClass():\n",
    "    display = []\n",
    "    for i in classFiltered(possibleClass()):\n",
    "        display.append(i[\"name\"])\n",
    "    return display\n",
    "\n",
    "def showChosen():\n",
    "    display = []\n",
    "    for i in chosenList:\n",
    "        display.append(i[\"name\"])\n",
    "    return display\n",
    "\n",
    "def ectsCounter():\n",
    "    res = 0\n",
    "    for i in chosenList:\n",
    "        res += i[\"ects\"]\n",
    "    return '%g'%(res)"
   ]
  },
  {
   "cell_type": "code",
   "execution_count": 13,
   "metadata": {},
   "outputs": [],
   "source": [
    "#initiate the list of the chosen class, and the possible picks\n",
    "select = widgets.Select(\n",
    "    options=showPossibleClass(),\n",
    "    description='Possible picks',\n",
    "    layout= widgets.Layout(width='50%')\n",
    ")\n",
    "\n",
    "chosen = widgets.Select(\n",
    "    description='Your picks',\n",
    "    layout= widgets.Layout(width='50%')\n",
    ")\n",
    "\n",
    "#add reviews about the currently selected pick\n",
    "labelClassRanking = widgets.Label()\n",
    "def classRanking(c):\n",
    "    for i in G.nodes():\n",
    "        if G.nodes[i][\"name\"] == select.value:\n",
    "            try:\n",
    "                labelClassRanking.value = \"Average grade : \" + G.nodes[i][\"avgGrade\"] + \" | \" + \\\n",
    "                    \"Passed : \" + G.nodes[i][\"passed\"] + \"% | \" + \"Rating : \" + G.nodes[i][\"rating\"] + \\\n",
    "                    \" | \" + \"Workload : \" + G.nodes[i][\"workload\"] + \".\"\n",
    "            except:\n",
    "                labelClassRanking.value = \"No reviews yet for this class.\"\n",
    "            break\n",
    "select.observe(classRanking, 'value')\n"
   ]
  },
  {
   "cell_type": "code",
   "execution_count": 14,
   "metadata": {},
   "outputs": [],
   "source": [
    "#here we handle the buttons behaviour\n",
    "def onAdd(c):\n",
    "    for i in G.nodes():\n",
    "        if G.nodes[i][\"name\"] == select.value:\n",
    "            chosenList.append(G.nodes[i])\n",
    "            break\n",
    "    btnDel.disabled = False\n",
    "    updateSelect(None)\n",
    "\n",
    "def onRemove(c):\n",
    "    for i in range(len(chosenList)):\n",
    "        if chosenList[i][\"name\"] == chosen.value:\n",
    "            chosenList.pop(i)\n",
    "            break\n",
    "    if len(chosenList) == 0:\n",
    "        btnDel.disabled = True\n",
    "    updateSelect(None)\n",
    "\n",
    "btnAdd = widgets.Button(\n",
    "    description='Add',\n",
    "    button_style='success',\n",
    ")\n",
    "\n",
    "btnDel = widgets.Button(\n",
    "    description='Remove',\n",
    "    button_style='danger',\n",
    "    disabled=True,\n",
    ")\n",
    "btnDel.on_click(onRemove)\n",
    "btnAdd.on_click(onAdd)\n"
   ]
  },
  {
   "cell_type": "code",
   "execution_count": 15,
   "metadata": {},
   "outputs": [
    {
     "data": {
      "application/vnd.jupyter.widget-view+json": {
       "model_id": "6e91b1bea84447738beafffa9e22b1dd",
       "version_major": 2,
       "version_minor": 0
      },
      "text/plain": [
       "VBox(children=(HBox(children=(Select(description='Your picks', layout=Layout(width='50%'), options=(), value=N…"
      ]
     },
     "metadata": {},
     "output_type": "display_data"
    }
   ],
   "source": [
    "widgets.VBox([\n",
    "    widgets.HBox([chosen, btnDel]),\n",
    "    labelEcts,\n",
    "    widgets.Label(\"Filters\"),\n",
    "    widgets.HBox([selectDepartement, selectLangages]),\n",
    "    widgets.HBox([select, btnAdd]),\n",
    "    labelClassRanking   \n",
    "])\n"
   ]
  },
  {
   "cell_type": "code",
   "execution_count": null,
   "metadata": {},
   "outputs": [],
   "source": []
  }
 ],
 "metadata": {
  "interpreter": {
   "hash": "aed01aee7b1049ee99c4c4c8f2f61a52275825d2f87351fb09fa491d1e9eef79"
  },
  "kernelspec": {
   "display_name": "Python 3 (ipykernel)",
   "language": "python",
   "name": "python3"
  },
  "language_info": {
   "codemirror_mode": {
    "name": "ipython",
    "version": 3
   },
   "file_extension": ".py",
   "mimetype": "text/x-python",
   "name": "python",
   "nbconvert_exporter": "python",
   "pygments_lexer": "ipython3",
   "version": "3.8.12"
  }
 },
 "nbformat": 4,
 "nbformat_minor": 2
}
